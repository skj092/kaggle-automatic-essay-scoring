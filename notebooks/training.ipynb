{
 "cells": [
  {
   "cell_type": "code",
   "execution_count": 1,
   "id": "4695d6ad",
   "metadata": {
    "execution": {
     "iopub.execute_input": "2024-07-10T13:41:30.125651Z",
     "iopub.status.busy": "2024-07-10T13:41:30.125207Z",
     "iopub.status.idle": "2024-07-10T13:41:38.849777Z",
     "shell.execute_reply": "2024-07-10T13:41:38.848691Z"
    },
    "papermill": {
     "duration": 8.732258,
     "end_time": "2024-07-10T13:41:38.852384",
     "exception": false,
     "start_time": "2024-07-10T13:41:30.120126",
     "status": "completed"
    },
    "tags": []
   },
   "outputs": [],
   "source": [
    "from pytorch_lightning import LightningModule, LightningDataModule\n",
    "from torchmetrics.classification import MultilabelAUROC\n",
    "from torchmetrics import MetricCollection, MeanMetric\n",
    "from torch.optim.lr_scheduler import CosineAnnealingLR\n",
    "from torch.optim import AdamW\n",
    "from torch.utils.data import Dataset, DataLoader\n",
    "import torch.nn.functional as F\n",
    "import torch.nn as nn\n",
    "import torch\n",
    "import random\n",
    "import numpy as np\n",
    "import pandas as pd\n",
    "import warnings\n",
    "import os\n",
    "from PIL import Image\n",
    "\n",
    "warnings.simplefilter(action='ignore', category=pd.errors.PerformanceWarning)\n",
    "warnings.simplefilter(\n",
    "    action='ignore', category=pd.errors.SettingWithCopyWarning)\n",
    "\n",
    "\n",
    "class ISICDatast(Dataset):\n",
    "    def __init__(self,\n",
    "                 df,\n",
    "                 img_dir,\n",
    "                 transform=None,\n",
    "                 **kwargs):\n",
    "        df = df.reset_index(drop=True)\n",
    "        self.transform = transform\n",
    "        self.df = df\n",
    "        self.img_dir = img_dir\n",
    "\n",
    "    def __len__(self):\n",
    "        return len(self.df)\n",
    "\n",
    "    def __getitem__(self, idx):\n",
    "        img_id = self.df.loc[idx, 'isic_id']\n",
    "        img_path = os.path.join(self.img_dir, img_id + '.jpg')\n",
    "        img = Image.open(img_path).convert('RGB')\n",
    "        label = self.df.loc[idx, 'target'] # 0 or 1\n",
    "        label = torch.tensor([label, 1-label], dtype=torch.float32)\n",
    "        if self.transform:\n",
    "            img = self.transform(image=np.array(img))['image']\n",
    "        return img, label\n",
    "\n",
    "\n",
    "class ISICDataModule(LightningDataModule):\n",
    "    def __init__(self, train_dataset, val_dataset, batch_size=64):\n",
    "        super().__init__()\n",
    "        self.batch_size = batch_size\n",
    "        self.train_dataset = train_dataset\n",
    "        self.val_dataset = val_dataset\n",
    "\n",
    "    def train_dataloader(self):\n",
    "        return DataLoader(dataset=self.train_dataset,\n",
    "                          batch_size=self.batch_size,\n",
    "                          num_workers=4,\n",
    "                          pin_memory=False,\n",
    "                          shuffle=True,\n",
    "                          )\n",
    "\n",
    "    def val_dataloader(self):\n",
    "        return DataLoader(dataset=self.val_dataset,\n",
    "                          batch_size=self.batch_size,\n",
    "                          num_workers=4,\n",
    "                          pin_memory=False,\n",
    "                          shuffle=False,\n",
    "                          )\n",
    "\n",
    "\n",
    "class CutMix:\n",
    "    def __init__(self,\n",
    "                 mode: str = 'horizontal',\n",
    "                 p: float = 1.0,\n",
    "                 cuts_num: int = 1):\n",
    "        assert mode in ['horizontal']\n",
    "        self.mode = mode\n",
    "        self.cuts_num = cuts_num\n",
    "        self.p = p\n",
    "\n",
    "    def apply_horizontal(self, imgs, labels):\n",
    "        w = imgs.shape[-1]\n",
    "        b = imgs.shape[0]\n",
    "\n",
    "        alphas = np.sort(np.random.rand(self.cuts_num))\n",
    "        rand_index = [np.random.permutation(b) for _ in range(self.cuts_num)]\n",
    "        imgs_tomix = [imgs[idxes] for idxes in rand_index]\n",
    "        labels_tomix = [labels[idxes] for idxes in rand_index]\n",
    "\n",
    "        for alpha, img_tomix in zip(alphas, imgs_tomix):\n",
    "            imgs[..., int(alpha*w):] = img_tomix[..., int(alpha*w):]\n",
    "\n",
    "        labels = labels*alphas[0]\n",
    "        for i in range(1, self.cuts_num):\n",
    "            labels += labels_tomix[i-1]*(alphas[i] - alphas[i-1])\n",
    "        labels += labels_tomix[-1] * (1 - alphas[-1])\n",
    "\n",
    "        return imgs, labels\n",
    "\n",
    "    def __call__(self, imgs, labels):\n",
    "        if random.random() > self.p:\n",
    "            return imgs, labels\n",
    "        if self.mode in ['horizontal']:\n",
    "            imgs, labels = self.apply_horizontal(imgs, labels)\n",
    "        return imgs, labels\n",
    "\n",
    "\n",
    "class LitCls(LightningModule):\n",
    "\n",
    "    def __init__(\n",
    "            self,\n",
    "            model: torch.nn.Module,\n",
    "            learning_rate: float = 3e-4,\n",
    "            cutmix_p: float = 0,\n",
    "            cuts_num: int = 1,\n",
    "    ) -> None:\n",
    "        super().__init__()\n",
    "\n",
    "        self.model: torch.nn.Module = model\n",
    "        self.learning_rate: float = learning_rate\n",
    "        self.aug_cutmix = CutMix(\n",
    "            mode='horizontal', p=cutmix_p, cuts_num=cuts_num)\n",
    "\n",
    "        self.loss: torch.nn.Module = nn.CrossEntropyLoss()\n",
    "        metric_ce = MetricCollection({\n",
    "            \"CE\": MeanMetric()\n",
    "        })\n",
    "        metric_auroc = MetricCollection({\n",
    "            \"AUROC\": MultilabelAUROC(num_labels=2, average=\"macro\"),\n",
    "        })\n",
    "\n",
    "        self.train_ce: MetricCollection = metric_ce.clone(prefix=\"train_\")\n",
    "        self.val_ce: MetricCollection = metric_ce.clone(prefix=\"val_\")\n",
    "        self.train_auroc: MetricCollection = metric_auroc.clone(\n",
    "            prefix=\"train_\")\n",
    "        self.val_auroc: MetricCollection = metric_auroc.clone(prefix=\"val_\")\n",
    "\n",
    "    def training_step(self, batch, batch_idx: int) -> torch.Tensor:\n",
    "        x, y = batch\n",
    "        x = x.transpose(1, 3) # (B, H, W, C) -> (B, C, H, W)\n",
    "        x, y = self.aug_cutmix(x, y)\n",
    "        preds = self.model(x)\n",
    "        train_loss = self.loss(preds, y)\n",
    "        self.train_ce(train_loss)\n",
    "        self.log('train_loss', train_loss, prog_bar=True, sync_dist=True)\n",
    "        self.train_auroc(F.sigmoid(preds), (y+0.9).int())\n",
    "        return train_loss\n",
    "\n",
    "    def on_train_epoch_end(self) -> None:\n",
    "        self.log_dict(self.train_ce.compute(), sync_dist=True)\n",
    "        self.train_ce.reset()\n",
    "        self.log_dict(self.train_auroc.compute(), sync_dist=True)\n",
    "        self.train_auroc.reset()\n",
    "\n",
    "    def validation_step(self, batch: dict[str, torch.Tensor], batch_idx: int) -> None:\n",
    "        x, y = batch\n",
    "        x = x.transpose(1, 3) # (B, H, W, C) -> (B, C, H, W)\n",
    "        preds = self.model(x)\n",
    "        val_loss = self.loss(preds, y)\n",
    "        self.val_ce(val_loss)\n",
    "        self.val_auroc(F.sigmoid(preds), (y+0.9).int())\n",
    "\n",
    "    def on_validation_epoch_end(self) -> None:\n",
    "        self.log_dict(self.val_ce.compute(), prog_bar=True, sync_dist=True)\n",
    "        self.val_ce.reset()\n",
    "        self.log_dict(self.val_auroc.compute(), prog_bar=True, sync_dist=True)\n",
    "        self.val_auroc.reset()\n",
    "\n",
    "    def configure_optimizers(self):\n",
    "        optimizer = AdamW(\n",
    "            params=self.trainer.model.parameters(), lr=self.learning_rate)\n",
    "        scheduler = CosineAnnealingLR(optimizer, T_max=self.trainer.max_epochs)\n",
    "        return [optimizer], [scheduler]\n"
   ]
  },
  {
   "cell_type": "code",
   "execution_count": 2,
   "id": "67535868",
   "metadata": {
    "execution": {
     "iopub.execute_input": "2024-07-10T13:41:38.860127Z",
     "iopub.status.busy": "2024-07-10T13:41:38.859545Z",
     "iopub.status.idle": "2024-07-10T13:41:38.868361Z",
     "shell.execute_reply": "2024-07-10T13:41:38.867323Z"
    },
    "papermill": {
     "duration": 0.015243,
     "end_time": "2024-07-10T13:41:38.870619",
     "exception": false,
     "start_time": "2024-07-10T13:41:38.855376",
     "status": "completed"
    },
    "tags": []
   },
   "outputs": [
    {
     "data": {
      "text/plain": [
       "{'name': 'resnet18',\n",
       " 'model_name': 'resnet18',\n",
       " 'img_size': 224,\n",
       " 'learning_rate': 0.003,\n",
       " 'epochs_num': 1,\n",
       " 'batch_size': 32}"
      ]
     },
     "execution_count": 2,
     "metadata": {},
     "output_type": "execute_result"
    }
   ],
   "source": [
    "CFG = {\n",
    "    \"name\": \"resnet18\",\n",
    "    \"model_name\": \"resnet18\",\n",
    "    \"img_size\": 224,\n",
    "    \"learning_rate\": 3e-3,\n",
    "    \"epochs_num\": 1,\n",
    "    \"batch_size\": 32\n",
    "}\n",
    "CFG"
   ]
  },
  {
   "cell_type": "code",
   "execution_count": 3,
   "id": "97b9d0fd",
   "metadata": {
    "execution": {
     "iopub.execute_input": "2024-07-10T13:41:38.878213Z",
     "iopub.status.busy": "2024-07-10T13:41:38.877782Z",
     "iopub.status.idle": "2024-07-10T13:42:26.157418Z",
     "shell.execute_reply": "2024-07-10T13:42:26.156143Z"
    },
    "papermill": {
     "duration": 47.286581,
     "end_time": "2024-07-10T13:42:26.160203",
     "exception": false,
     "start_time": "2024-07-10T13:41:38.873622",
     "status": "completed"
    },
    "tags": []
   },
   "outputs": [
    {
     "name": "stderr",
     "output_type": "stream",
     "text": [
      "/tmp/ipykernel_18/1515938260.py:43: DtypeWarning: Columns (51,52) have mixed types. Specify dtype option on import or set low_memory=False.\n",
      "  data = pd.read_csv(train_csv_path)\n"
     ]
    },
    {
     "data": {
      "application/vnd.jupyter.widget-view+json": {
       "model_id": "fa46320aefab4a9faa89e3444fa77381",
       "version_major": 2,
       "version_minor": 0
      },
      "text/plain": [
       "model.safetensors:   0%|          | 0.00/46.8M [00:00<?, ?B/s]"
      ]
     },
     "metadata": {},
     "output_type": "display_data"
    },
    {
     "name": "stderr",
     "output_type": "stream",
     "text": [
      "2024-07-10 13:41:55.878709: E external/local_xla/xla/stream_executor/cuda/cuda_dnn.cc:9261] Unable to register cuDNN factory: Attempting to register factory for plugin cuDNN when one has already been registered\n",
      "2024-07-10 13:41:55.878827: E external/local_xla/xla/stream_executor/cuda/cuda_fft.cc:607] Unable to register cuFFT factory: Attempting to register factory for plugin cuFFT when one has already been registered\n",
      "2024-07-10 13:41:56.017750: E external/local_xla/xla/stream_executor/cuda/cuda_blas.cc:1515] Unable to register cuBLAS factory: Attempting to register factory for plugin cuBLAS when one has already been registered\n"
     ]
    },
    {
     "data": {
      "text/html": [
       "<pre style=\"white-space:pre;overflow-x:auto;line-height:normal;font-family:Menlo,'DejaVu Sans Mono',consolas,'Courier New',monospace\">┏━━━┳━━━━━━━━━━━━━┳━━━━━━━━━━━━━━━━━━┳━━━━━━━━┓\n",
       "┃<span style=\"color: #800080; text-decoration-color: #800080; font-weight: bold\">   </span>┃<span style=\"color: #800080; text-decoration-color: #800080; font-weight: bold\"> Name        </span>┃<span style=\"color: #800080; text-decoration-color: #800080; font-weight: bold\"> Type             </span>┃<span style=\"color: #800080; text-decoration-color: #800080; font-weight: bold\"> Params </span>┃\n",
       "┡━━━╇━━━━━━━━━━━━━╇━━━━━━━━━━━━━━━━━━╇━━━━━━━━┩\n",
       "│<span style=\"color: #7f7f7f; text-decoration-color: #7f7f7f\"> 0 </span>│ model       │ ResNet           │ 11.2 M │\n",
       "│<span style=\"color: #7f7f7f; text-decoration-color: #7f7f7f\"> 1 </span>│ loss        │ CrossEntropyLoss │      0 │\n",
       "│<span style=\"color: #7f7f7f; text-decoration-color: #7f7f7f\"> 2 </span>│ train_ce    │ MetricCollection │      0 │\n",
       "│<span style=\"color: #7f7f7f; text-decoration-color: #7f7f7f\"> 3 </span>│ val_ce      │ MetricCollection │      0 │\n",
       "│<span style=\"color: #7f7f7f; text-decoration-color: #7f7f7f\"> 4 </span>│ train_auroc │ MetricCollection │      0 │\n",
       "│<span style=\"color: #7f7f7f; text-decoration-color: #7f7f7f\"> 5 </span>│ val_auroc   │ MetricCollection │      0 │\n",
       "└───┴─────────────┴──────────────────┴────────┘\n",
       "</pre>\n"
      ],
      "text/plain": [
       "┏━━━┳━━━━━━━━━━━━━┳━━━━━━━━━━━━━━━━━━┳━━━━━━━━┓\n",
       "┃\u001b[1;35m \u001b[0m\u001b[1;35m \u001b[0m\u001b[1;35m \u001b[0m┃\u001b[1;35m \u001b[0m\u001b[1;35mName       \u001b[0m\u001b[1;35m \u001b[0m┃\u001b[1;35m \u001b[0m\u001b[1;35mType            \u001b[0m\u001b[1;35m \u001b[0m┃\u001b[1;35m \u001b[0m\u001b[1;35mParams\u001b[0m\u001b[1;35m \u001b[0m┃\n",
       "┡━━━╇━━━━━━━━━━━━━╇━━━━━━━━━━━━━━━━━━╇━━━━━━━━┩\n",
       "│\u001b[2m \u001b[0m\u001b[2m0\u001b[0m\u001b[2m \u001b[0m│ model       │ ResNet           │ 11.2 M │\n",
       "│\u001b[2m \u001b[0m\u001b[2m1\u001b[0m\u001b[2m \u001b[0m│ loss        │ CrossEntropyLoss │      0 │\n",
       "│\u001b[2m \u001b[0m\u001b[2m2\u001b[0m\u001b[2m \u001b[0m│ train_ce    │ MetricCollection │      0 │\n",
       "│\u001b[2m \u001b[0m\u001b[2m3\u001b[0m\u001b[2m \u001b[0m│ val_ce      │ MetricCollection │      0 │\n",
       "│\u001b[2m \u001b[0m\u001b[2m4\u001b[0m\u001b[2m \u001b[0m│ train_auroc │ MetricCollection │      0 │\n",
       "│\u001b[2m \u001b[0m\u001b[2m5\u001b[0m\u001b[2m \u001b[0m│ val_auroc   │ MetricCollection │      0 │\n",
       "└───┴─────────────┴──────────────────┴────────┘\n"
      ]
     },
     "metadata": {},
     "output_type": "display_data"
    },
    {
     "data": {
      "text/html": [
       "<pre style=\"white-space:pre;overflow-x:auto;line-height:normal;font-family:Menlo,'DejaVu Sans Mono',consolas,'Courier New',monospace\"><span style=\"font-weight: bold\">Trainable params</span>: 11.2 M                                                                                           \n",
       "<span style=\"font-weight: bold\">Non-trainable params</span>: 0                                                                                            \n",
       "<span style=\"font-weight: bold\">Total params</span>: 11.2 M                                                                                               \n",
       "<span style=\"font-weight: bold\">Total estimated model params size (MB)</span>: 44                                                                         \n",
       "</pre>\n"
      ],
      "text/plain": [
       "\u001b[1mTrainable params\u001b[0m: 11.2 M                                                                                           \n",
       "\u001b[1mNon-trainable params\u001b[0m: 0                                                                                            \n",
       "\u001b[1mTotal params\u001b[0m: 11.2 M                                                                                               \n",
       "\u001b[1mTotal estimated model params size (MB)\u001b[0m: 44                                                                         \n"
      ]
     },
     "metadata": {},
     "output_type": "display_data"
    },
    {
     "data": {
      "application/vnd.jupyter.widget-view+json": {
       "model_id": "94d98057e1f94661bdf76cb69a7db6b9",
       "version_major": 2,
       "version_minor": 0
      },
      "text/plain": [
       "Output()"
      ]
     },
     "metadata": {},
     "output_type": "display_data"
    },
    {
     "name": "stderr",
     "output_type": "stream",
     "text": [
      "/opt/conda/lib/python3.10/site-packages/pytorch_lightning/loops/fit_loop.py:298: The number of training batches (3) is smaller than the logging interval Trainer(log_every_n_steps=50). Set a lower value for log_every_n_steps if you want to see logs for the training epoch.\n"
     ]
    },
    {
     "data": {
      "text/html": [
       "<pre style=\"white-space:pre;overflow-x:auto;line-height:normal;font-family:Menlo,'DejaVu Sans Mono',consolas,'Courier New',monospace\">/opt/conda/lib/python3.10/site-packages/torchmetrics/utilities/prints.py:43: UserWarning: No positive samples in \n",
       "targets, true positive value should be meaningless. Returning zero tensor in true positive score\n",
       "  warnings.warn(*args, **kwargs)  # noqa: B028\n",
       "</pre>\n"
      ],
      "text/plain": [
       "/opt/conda/lib/python3.10/site-packages/torchmetrics/utilities/prints.py:43: UserWarning: No positive samples in \n",
       "targets, true positive value should be meaningless. Returning zero tensor in true positive score\n",
       "  warnings.warn(*args, **kwargs)  # noqa: B028\n"
      ]
     },
     "metadata": {},
     "output_type": "display_data"
    },
    {
     "data": {
      "text/html": [
       "<pre style=\"white-space:pre;overflow-x:auto;line-height:normal;font-family:Menlo,'DejaVu Sans Mono',consolas,'Courier New',monospace\">/opt/conda/lib/python3.10/site-packages/torchmetrics/utilities/prints.py:43: UserWarning: No negative samples in \n",
       "targets, false positive value should be meaningless. Returning zero tensor in false positive score\n",
       "  warnings.warn(*args, **kwargs)  # noqa: B028\n",
       "</pre>\n"
      ],
      "text/plain": [
       "/opt/conda/lib/python3.10/site-packages/torchmetrics/utilities/prints.py:43: UserWarning: No negative samples in \n",
       "targets, false positive value should be meaningless. Returning zero tensor in false positive score\n",
       "  warnings.warn(*args, **kwargs)  # noqa: B028\n"
      ]
     },
     "metadata": {},
     "output_type": "display_data"
    },
    {
     "data": {
      "text/html": [
       "<pre style=\"white-space:pre;overflow-x:auto;line-height:normal;font-family:Menlo,'DejaVu Sans Mono',consolas,'Courier New',monospace\"></pre>\n"
      ],
      "text/plain": []
     },
     "metadata": {},
     "output_type": "display_data"
    },
    {
     "data": {
      "text/html": [
       "<pre style=\"white-space:pre;overflow-x:auto;line-height:normal;font-family:Menlo,'DejaVu Sans Mono',consolas,'Courier New',monospace\">\n",
       "</pre>\n"
      ],
      "text/plain": [
       "\n"
      ]
     },
     "metadata": {},
     "output_type": "display_data"
    }
   ],
   "source": [
    "# from training_utils import ISICDatast, ISICDataModule, LitCls\n",
    "import albumentations as A\n",
    "import timm\n",
    "from pytorch_lightning.callbacks import ModelCheckpoint, LearningRateMonitor, RichProgressBar\n",
    "from pytorch_lightning import Trainer\n",
    "from sklearn.model_selection import train_test_split\n",
    "import pandas as pd\n",
    "import json\n",
    "import warnings\n",
    "import argparse\n",
    "from pathlib import Path\n",
    "\n",
    "warnings.simplefilter(action='ignore', category=pd.errors.PerformanceWarning)\n",
    "warnings.simplefilter(\n",
    "    action='ignore', category=pd.errors.SettingWithCopyWarning)\n",
    "\n",
    "models_path = 'model_weights/'\n",
    "\n",
    "\n",
    "# from pytorch_lightning.loggers import WandbLogger\n",
    "\n",
    "# import wandb\n",
    "\n",
    "\n",
    "if __name__ == '__main__':\n",
    "\n",
    "#     parser = argparse.ArgumentParser()\n",
    "#     parser.add_argument(\n",
    "#         '-с', '--cfg', help='Model config file path', dest='cfg_path')\n",
    "#     args = {}\n",
    "#     for name, value in vars(parser.parse_args()).items():\n",
    "#         args[name] = value\n",
    "    \n",
    "    root_path = Path(\"/kaggle/input/isic-2024-challenge\")\n",
    "\n",
    "    train_csv_path = root_path/'train-metadata.csv'\n",
    "\n",
    "    # load config\n",
    "#     with open(args['cfg_path'], 'r') as f:\n",
    "#         CFG = json.load(f)\n",
    "\n",
    "    # read train metadata\n",
    "    data = pd.read_csv(train_csv_path)\n",
    "    data = data.sample(n=100)\n",
    "\n",
    "    train_df, valid_df = train_test_split(\n",
    "        data, test_size=0.1, random_state=42, stratify=data['target'])\n",
    "\n",
    "    # create train and validation datasets\n",
    "    transform = A.Compose([\n",
    "        A.Resize(CFG['img_size'], CFG['img_size']),\n",
    "        A.Normalize(),\n",
    "    ])\n",
    "    train_dataset = ISICDatast(df=train_df,\n",
    "                               img_dir=root_path/'train-image/image/',\n",
    "                               transform=transform)\n",
    "    valid_dataset = ISICDatast(df=valid_df,\n",
    "                               img_dir=root_path/'train-image/image/',\n",
    "                               transform=transform)\n",
    "    datamodule = ISICDataModule(train_dataset, train_dataset,\n",
    "                                batch_size=CFG['batch_size'])\n",
    "\n",
    "    # create pretrained model\n",
    "    model = timm.create_model(\n",
    "        CFG['model_name'], pretrained=True,\n",
    "        num_classes=2\n",
    "    )\n",
    "    lit_cls = LitCls(model, cutmix_p=0.9, learning_rate=CFG['learning_rate'])\n",
    "\n",
    "    # create callbacks\n",
    "    checkpoint_callback = ModelCheckpoint(\n",
    "        monitor=None,  # save only last\n",
    "        filename='{epoch}-{val_AUROC:.3f}',\n",
    "        save_last=True,\n",
    "    )\n",
    "    lr_monitor = LearningRateMonitor(logging_interval='epoch')\n",
    "    rich_progress = RichProgressBar()\n",
    "\n",
    "    # with open('/wandb_key.txt') as f:\n",
    "    #     WANDB_KEY = f.readline()\n",
    "    # wandb.login(key=WANDB_KEY)\n",
    "    # logger = WandbLogger(\n",
    "    #     project='BirdCLEF',\n",
    "    #     log_model=True,\n",
    "    # )\n",
    "\n",
    "    # create trainer and start training process\n",
    "    trainer = Trainer(\n",
    "        check_val_every_n_epoch=1,\n",
    "        num_sanity_val_steps=0,\n",
    "        max_epochs=CFG['epochs_num'],\n",
    "        accumulate_grad_batches=1,\n",
    "        callbacks=[rich_progress, lr_monitor, checkpoint_callback],\n",
    "        # logger=logger,\n",
    "        log_every_n_steps=50,\n",
    "        # accelerator='gpu',\n",
    "    )\n",
    "    trainer.fit(lit_cls, datamodule=datamodule)\n",
    "    # wandb.finish()\n",
    "\n",
    "    name = CFG['name'].split('/')[-1].split('.')[0]\n",
    "    trainer.save_checkpoint(f'{models_path}{CFG[\"name\"]}.ckpt')\n"
   ]
  },
  {
   "cell_type": "code",
   "execution_count": 4,
   "id": "610a4981",
   "metadata": {
    "execution": {
     "iopub.execute_input": "2024-07-10T13:42:26.226201Z",
     "iopub.status.busy": "2024-07-10T13:42:26.225728Z",
     "iopub.status.idle": "2024-07-10T13:42:27.329173Z",
     "shell.execute_reply": "2024-07-10T13:42:27.327416Z"
    },
    "papermill": {
     "duration": 1.166552,
     "end_time": "2024-07-10T13:42:27.332115",
     "exception": false,
     "start_time": "2024-07-10T13:42:26.165563",
     "status": "completed"
    },
    "tags": []
   },
   "outputs": [
    {
     "name": "stdout",
     "output_type": "stream",
     "text": [
      "resnet18.ckpt\r\n"
     ]
    }
   ],
   "source": [
    "ls model_weights"
   ]
  },
  {
   "cell_type": "code",
   "execution_count": null,
   "id": "816d8547",
   "metadata": {
    "papermill": {
     "duration": 0.004127,
     "end_time": "2024-07-10T13:42:27.340513",
     "exception": false,
     "start_time": "2024-07-10T13:42:27.336386",
     "status": "completed"
    },
    "tags": []
   },
   "outputs": [],
   "source": []
  }
 ],
 "metadata": {
  "kaggle": {
   "accelerator": "none",
   "dataSources": [
    {
     "databundleVersionId": 8940774,
     "sourceId": 63056,
     "sourceType": "competition"
    }
   ],
   "dockerImageVersionId": 30732,
   "isGpuEnabled": false,
   "isInternetEnabled": true,
   "language": "python",
   "sourceType": "notebook"
  },
  "kernelspec": {
   "display_name": "Python 3",
   "language": "python",
   "name": "python3"
  },
  "language_info": {
   "codemirror_mode": {
    "name": "ipython",
    "version": 3
   },
   "file_extension": ".py",
   "mimetype": "text/x-python",
   "name": "python",
   "nbconvert_exporter": "python",
   "pygments_lexer": "ipython3",
   "version": "3.10.13"
  },
  "papermill": {
   "default_parameters": {},
   "duration": 62.788056,
   "end_time": "2024-07-10T13:42:29.966288",
   "environment_variables": {},
   "exception": null,
   "input_path": "__notebook__.ipynb",
   "output_path": "__notebook__.ipynb",
   "parameters": {},
   "start_time": "2024-07-10T13:41:27.178232",
   "version": "2.5.0"
  },
  "widgets": {
   "application/vnd.jupyter.widget-state+json": {
    "state": {
     "2520375da8ff4e0b8e0ffb3f66bbb2d8": {
      "model_module": "@jupyter-widgets/base",
      "model_module_version": "1.2.0",
      "model_name": "LayoutModel",
      "state": {
       "_model_module": "@jupyter-widgets/base",
       "_model_module_version": "1.2.0",
       "_model_name": "LayoutModel",
       "_view_count": null,
       "_view_module": "@jupyter-widgets/base",
       "_view_module_version": "1.2.0",
       "_view_name": "LayoutView",
       "align_content": null,
       "align_items": null,
       "align_self": null,
       "border": null,
       "bottom": null,
       "display": null,
       "flex": null,
       "flex_flow": null,
       "grid_area": null,
       "grid_auto_columns": null,
       "grid_auto_flow": null,
       "grid_auto_rows": null,
       "grid_column": null,
       "grid_gap": null,
       "grid_row": null,
       "grid_template_areas": null,
       "grid_template_columns": null,
       "grid_template_rows": null,
       "height": null,
       "justify_content": null,
       "justify_items": null,
       "left": null,
       "margin": null,
       "max_height": null,
       "max_width": null,
       "min_height": null,
       "min_width": null,
       "object_fit": null,
       "object_position": null,
       "order": null,
       "overflow": null,
       "overflow_x": null,
       "overflow_y": null,
       "padding": null,
       "right": null,
       "top": null,
       "visibility": null,
       "width": null
      }
     },
     "47d34ec512ef4bc7927ded2e2263f74b": {
      "model_module": "@jupyter-widgets/controls",
      "model_module_version": "1.5.0",
      "model_name": "FloatProgressModel",
      "state": {
       "_dom_classes": [],
       "_model_module": "@jupyter-widgets/controls",
       "_model_module_version": "1.5.0",
       "_model_name": "FloatProgressModel",
       "_view_count": null,
       "_view_module": "@jupyter-widgets/controls",
       "_view_module_version": "1.5.0",
       "_view_name": "ProgressView",
       "bar_style": "success",
       "description": "",
       "description_tooltip": null,
       "layout": "IPY_MODEL_2520375da8ff4e0b8e0ffb3f66bbb2d8",
       "max": 46807446.0,
       "min": 0.0,
       "orientation": "horizontal",
       "style": "IPY_MODEL_cf66cede8b1c4bef8a13e6b83f99b588",
       "value": 46807446.0
      }
     },
     "4a9297b452f341989bc9a4b7d9d92ea0": {
      "model_module": "@jupyter-widgets/controls",
      "model_module_version": "1.5.0",
      "model_name": "HTMLModel",
      "state": {
       "_dom_classes": [],
       "_model_module": "@jupyter-widgets/controls",
       "_model_module_version": "1.5.0",
       "_model_name": "HTMLModel",
       "_view_count": null,
       "_view_module": "@jupyter-widgets/controls",
       "_view_module_version": "1.5.0",
       "_view_name": "HTMLView",
       "description": "",
       "description_tooltip": null,
       "layout": "IPY_MODEL_5e37ccda8b0441c9a0441a11b405a6c2",
       "placeholder": "​",
       "style": "IPY_MODEL_7fe3ae17577c4d1e8d2b77679113f0a9",
       "value": "model.safetensors: 100%"
      }
     },
     "5d4093f2718d42faa9f480acad12d2ce": {
      "model_module": "@jupyter-widgets/controls",
      "model_module_version": "1.5.0",
      "model_name": "HTMLModel",
      "state": {
       "_dom_classes": [],
       "_model_module": "@jupyter-widgets/controls",
       "_model_module_version": "1.5.0",
       "_model_name": "HTMLModel",
       "_view_count": null,
       "_view_module": "@jupyter-widgets/controls",
       "_view_module_version": "1.5.0",
       "_view_name": "HTMLView",
       "description": "",
       "description_tooltip": null,
       "layout": "IPY_MODEL_8aee36968e8746128d183b5cb782a122",
       "placeholder": "​",
       "style": "IPY_MODEL_95e718b24bb446d2ad7bf3fedd50523d",
       "value": " 46.8M/46.8M [00:00&lt;00:00, 98.2MB/s]"
      }
     },
     "5e37ccda8b0441c9a0441a11b405a6c2": {
      "model_module": "@jupyter-widgets/base",
      "model_module_version": "1.2.0",
      "model_name": "LayoutModel",
      "state": {
       "_model_module": "@jupyter-widgets/base",
       "_model_module_version": "1.2.0",
       "_model_name": "LayoutModel",
       "_view_count": null,
       "_view_module": "@jupyter-widgets/base",
       "_view_module_version": "1.2.0",
       "_view_name": "LayoutView",
       "align_content": null,
       "align_items": null,
       "align_self": null,
       "border": null,
       "bottom": null,
       "display": null,
       "flex": null,
       "flex_flow": null,
       "grid_area": null,
       "grid_auto_columns": null,
       "grid_auto_flow": null,
       "grid_auto_rows": null,
       "grid_column": null,
       "grid_gap": null,
       "grid_row": null,
       "grid_template_areas": null,
       "grid_template_columns": null,
       "grid_template_rows": null,
       "height": null,
       "justify_content": null,
       "justify_items": null,
       "left": null,
       "margin": null,
       "max_height": null,
       "max_width": null,
       "min_height": null,
       "min_width": null,
       "object_fit": null,
       "object_position": null,
       "order": null,
       "overflow": null,
       "overflow_x": null,
       "overflow_y": null,
       "padding": null,
       "right": null,
       "top": null,
       "visibility": null,
       "width": null
      }
     },
     "7fe3ae17577c4d1e8d2b77679113f0a9": {
      "model_module": "@jupyter-widgets/controls",
      "model_module_version": "1.5.0",
      "model_name": "DescriptionStyleModel",
      "state": {
       "_model_module": "@jupyter-widgets/controls",
       "_model_module_version": "1.5.0",
       "_model_name": "DescriptionStyleModel",
       "_view_count": null,
       "_view_module": "@jupyter-widgets/base",
       "_view_module_version": "1.2.0",
       "_view_name": "StyleView",
       "description_width": ""
      }
     },
     "8aee36968e8746128d183b5cb782a122": {
      "model_module": "@jupyter-widgets/base",
      "model_module_version": "1.2.0",
      "model_name": "LayoutModel",
      "state": {
       "_model_module": "@jupyter-widgets/base",
       "_model_module_version": "1.2.0",
       "_model_name": "LayoutModel",
       "_view_count": null,
       "_view_module": "@jupyter-widgets/base",
       "_view_module_version": "1.2.0",
       "_view_name": "LayoutView",
       "align_content": null,
       "align_items": null,
       "align_self": null,
       "border": null,
       "bottom": null,
       "display": null,
       "flex": null,
       "flex_flow": null,
       "grid_area": null,
       "grid_auto_columns": null,
       "grid_auto_flow": null,
       "grid_auto_rows": null,
       "grid_column": null,
       "grid_gap": null,
       "grid_row": null,
       "grid_template_areas": null,
       "grid_template_columns": null,
       "grid_template_rows": null,
       "height": null,
       "justify_content": null,
       "justify_items": null,
       "left": null,
       "margin": null,
       "max_height": null,
       "max_width": null,
       "min_height": null,
       "min_width": null,
       "object_fit": null,
       "object_position": null,
       "order": null,
       "overflow": null,
       "overflow_x": null,
       "overflow_y": null,
       "padding": null,
       "right": null,
       "top": null,
       "visibility": null,
       "width": null
      }
     },
     "94d98057e1f94661bdf76cb69a7db6b9": {
      "model_module": "@jupyter-widgets/output",
      "model_module_version": "1.0.0",
      "model_name": "OutputModel",
      "state": {
       "_dom_classes": [],
       "_model_module": "@jupyter-widgets/output",
       "_model_module_version": "1.0.0",
       "_model_name": "OutputModel",
       "_view_count": null,
       "_view_module": "@jupyter-widgets/output",
       "_view_module_version": "1.0.0",
       "_view_name": "OutputView",
       "layout": "IPY_MODEL_d675a9bfca934b139231b92f6110ee65",
       "msg_id": "",
       "outputs": [
        {
         "data": {
          "text/html": "<pre style=\"white-space:pre;overflow-x:auto;line-height:normal;font-family:Menlo,'DejaVu Sans Mono',consolas,'Courier New',monospace\"><span style=\"color: #c0c0c0; text-decoration-color: #c0c0c0\">Epoch 0/0 </span> <span style=\"color: #6206e0; text-decoration-color: #6206e0\">━━━━━━━━━━━━━━━━━━━━━━━━━━━━━━━━━━━━━━━━</span> <span style=\"color: #c0c0c0; text-decoration-color: #c0c0c0\">3/3</span> <span style=\"color: #8a8a8a; text-decoration-color: #8a8a8a\">0:00:12 • 0:00:00</span> <span style=\"color: #b2b2b2; text-decoration-color: #b2b2b2\">0.27it/s</span> <span style=\"color: #c0c0c0; text-decoration-color: #c0c0c0\">v_num: 0.000 train_loss: 0.175</span>\n</pre>\n",
          "text/plain": "\u001b[37mEpoch 0/0 \u001b[0m \u001b[38;2;98;6;224m━━━━━━━━━━━━━━━━━━━━━━━━━━━━━━━━━━━━━━━━\u001b[0m \u001b[37m3/3\u001b[0m \u001b[38;5;245m0:00:12 • 0:00:00\u001b[0m \u001b[38;5;249m0.27it/s\u001b[0m \u001b[37mv_num: 0.000 train_loss: 0.175\u001b[0m\n"
         },
         "metadata": {},
         "output_type": "display_data"
        }
       ]
      }
     },
     "95e718b24bb446d2ad7bf3fedd50523d": {
      "model_module": "@jupyter-widgets/controls",
      "model_module_version": "1.5.0",
      "model_name": "DescriptionStyleModel",
      "state": {
       "_model_module": "@jupyter-widgets/controls",
       "_model_module_version": "1.5.0",
       "_model_name": "DescriptionStyleModel",
       "_view_count": null,
       "_view_module": "@jupyter-widgets/base",
       "_view_module_version": "1.2.0",
       "_view_name": "StyleView",
       "description_width": ""
      }
     },
     "a3f2c52144824b24b514e0472d3ba06b": {
      "model_module": "@jupyter-widgets/base",
      "model_module_version": "1.2.0",
      "model_name": "LayoutModel",
      "state": {
       "_model_module": "@jupyter-widgets/base",
       "_model_module_version": "1.2.0",
       "_model_name": "LayoutModel",
       "_view_count": null,
       "_view_module": "@jupyter-widgets/base",
       "_view_module_version": "1.2.0",
       "_view_name": "LayoutView",
       "align_content": null,
       "align_items": null,
       "align_self": null,
       "border": null,
       "bottom": null,
       "display": null,
       "flex": null,
       "flex_flow": null,
       "grid_area": null,
       "grid_auto_columns": null,
       "grid_auto_flow": null,
       "grid_auto_rows": null,
       "grid_column": null,
       "grid_gap": null,
       "grid_row": null,
       "grid_template_areas": null,
       "grid_template_columns": null,
       "grid_template_rows": null,
       "height": null,
       "justify_content": null,
       "justify_items": null,
       "left": null,
       "margin": null,
       "max_height": null,
       "max_width": null,
       "min_height": null,
       "min_width": null,
       "object_fit": null,
       "object_position": null,
       "order": null,
       "overflow": null,
       "overflow_x": null,
       "overflow_y": null,
       "padding": null,
       "right": null,
       "top": null,
       "visibility": null,
       "width": null
      }
     },
     "cf66cede8b1c4bef8a13e6b83f99b588": {
      "model_module": "@jupyter-widgets/controls",
      "model_module_version": "1.5.0",
      "model_name": "ProgressStyleModel",
      "state": {
       "_model_module": "@jupyter-widgets/controls",
       "_model_module_version": "1.5.0",
       "_model_name": "ProgressStyleModel",
       "_view_count": null,
       "_view_module": "@jupyter-widgets/base",
       "_view_module_version": "1.2.0",
       "_view_name": "StyleView",
       "bar_color": null,
       "description_width": ""
      }
     },
     "d675a9bfca934b139231b92f6110ee65": {
      "model_module": "@jupyter-widgets/base",
      "model_module_version": "1.2.0",
      "model_name": "LayoutModel",
      "state": {
       "_model_module": "@jupyter-widgets/base",
       "_model_module_version": "1.2.0",
       "_model_name": "LayoutModel",
       "_view_count": null,
       "_view_module": "@jupyter-widgets/base",
       "_view_module_version": "1.2.0",
       "_view_name": "LayoutView",
       "align_content": null,
       "align_items": null,
       "align_self": null,
       "border": null,
       "bottom": null,
       "display": null,
       "flex": null,
       "flex_flow": null,
       "grid_area": null,
       "grid_auto_columns": null,
       "grid_auto_flow": null,
       "grid_auto_rows": null,
       "grid_column": null,
       "grid_gap": null,
       "grid_row": null,
       "grid_template_areas": null,
       "grid_template_columns": null,
       "grid_template_rows": null,
       "height": null,
       "justify_content": null,
       "justify_items": null,
       "left": null,
       "margin": null,
       "max_height": null,
       "max_width": null,
       "min_height": null,
       "min_width": null,
       "object_fit": null,
       "object_position": null,
       "order": null,
       "overflow": null,
       "overflow_x": null,
       "overflow_y": null,
       "padding": null,
       "right": null,
       "top": null,
       "visibility": null,
       "width": null
      }
     },
     "fa46320aefab4a9faa89e3444fa77381": {
      "model_module": "@jupyter-widgets/controls",
      "model_module_version": "1.5.0",
      "model_name": "HBoxModel",
      "state": {
       "_dom_classes": [],
       "_model_module": "@jupyter-widgets/controls",
       "_model_module_version": "1.5.0",
       "_model_name": "HBoxModel",
       "_view_count": null,
       "_view_module": "@jupyter-widgets/controls",
       "_view_module_version": "1.5.0",
       "_view_name": "HBoxView",
       "box_style": "",
       "children": [
        "IPY_MODEL_4a9297b452f341989bc9a4b7d9d92ea0",
        "IPY_MODEL_47d34ec512ef4bc7927ded2e2263f74b",
        "IPY_MODEL_5d4093f2718d42faa9f480acad12d2ce"
       ],
       "layout": "IPY_MODEL_a3f2c52144824b24b514e0472d3ba06b"
      }
     }
    },
    "version_major": 2,
    "version_minor": 0
   }
  }
 },
 "nbformat": 4,
 "nbformat_minor": 5
}
